{
 "cells": [
  {
   "cell_type": "code",
   "execution_count": 1,
   "metadata": {},
   "outputs": [],
   "source": [
    "from bs4 import BeautifulSoup\n",
    "import requests \n",
    "import pandas as pd\n",
    "import os"
   ]
  },
  {
   "cell_type": "code",
   "execution_count": 5,
   "metadata": {},
   "outputs": [],
   "source": [
    "url = \"https://forum.arbitrum.foundation\"\n",
    "html = requests.get(url)\n",
    "soup = BeautifulSoup(html.text , \"lxml\")\n",
    "# soup.prettify()"
   ]
  },
  {
   "cell_type": "code",
   "execution_count": 6,
   "metadata": {},
   "outputs": [],
   "source": [
    "Category_links = []\n",
    "categories = soup.find_all(\"td\" , class_ = \"category\")\n",
    "for i in range(len(categories)):\n",
    "    Category_links.append(url+categories[i].find(\"a\")[\"href\"])"
   ]
  },
  {
   "cell_type": "code",
   "execution_count": 7,
   "metadata": {},
   "outputs": [
    {
     "data": {
      "text/plain": [
       "['https://forum.arbitrum.foundation/c/announcements/24',\n",
       " 'https://forum.arbitrum.foundation/c/procurement-nominations/44',\n",
       " 'https://forum.arbitrum.foundation/c/proposals/7',\n",
       " 'https://forum.arbitrum.foundation/c/dao-grant-programs/16',\n",
       " 'https://forum.arbitrum.foundation/c/grants-discussions/11',\n",
       " 'https://forum.arbitrum.foundation/c/governance/6',\n",
       " 'https://forum.arbitrum.foundation/c/arbitrum-research-development-committee-ardc/31',\n",
       " 'https://forum.arbitrum.foundation/c/security-council/52',\n",
       " 'https://forum.arbitrum.foundation/c/general/4',\n",
       " 'https://forum.arbitrum.foundation/c/archive/43']"
      ]
     },
     "execution_count": 7,
     "metadata": {},
     "output_type": "execute_result"
    }
   ],
   "source": [
    "Category_links"
   ]
  },
  {
   "cell_type": "code",
   "execution_count": 8,
   "metadata": {},
   "outputs": [
    {
     "name": "stdout",
     "output_type": "stream",
     "text": [
      "link https://forum.arbitrum.foundation/c/announcements/24 has 11 articals\n",
      "link https://forum.arbitrum.foundation/c/procurement-nominations/44 has 6 articals\n",
      "link https://forum.arbitrum.foundation/c/proposals/7 has 30 articals\n",
      "link https://forum.arbitrum.foundation/c/dao-grant-programs/16 has 30 articals\n",
      "link https://forum.arbitrum.foundation/c/grants-discussions/11 has 30 articals\n",
      "link https://forum.arbitrum.foundation/c/governance/6 has 30 articals\n",
      "link https://forum.arbitrum.foundation/c/arbitrum-research-development-committee-ardc/31 has 30 articals\n",
      "link https://forum.arbitrum.foundation/c/security-council/52 has 30 articals\n",
      "link https://forum.arbitrum.foundation/c/general/4 has 30 articals\n",
      "link https://forum.arbitrum.foundation/c/archive/43 has 30 articals\n",
      "total artical count is:  257\n"
     ]
    }
   ],
   "source": [
    "total_artical_count = 0\n",
    "for i in range(len(Category_links)):\n",
    "    html = requests.get(Category_links[i])\n",
    "    soup = BeautifulSoup(html.text , \"lxml\")\n",
    "    articalNum = len(soup.find_all(\"tr\" , class_ = \"topic-list-item\"))\n",
    "    print(f\"link {Category_links[i]} has {articalNum} articals\")\n",
    "    total_artical_count += articalNum\n",
    "\n",
    "print(\"total artical count is: \" , total_artical_count)\n",
    "    "
   ]
  },
  {
   "cell_type": "code",
   "execution_count": 9,
   "metadata": {},
   "outputs": [],
   "source": [
    "artical_title = []\n",
    "artical_link = []\n",
    "\n",
    "html = requests.get(Category_links[0])\n",
    "soup = BeautifulSoup(html.text , \"lxml\")\n",
    "articalList = soup.find_all(\"tr\" , class_ = \"topic-list-item\")\n",
    "\n",
    "for artical in articalList:\n",
    "    title = artical.find(\"a\" , class_ = \"title\")\n",
    "    artical_title.append(title.text.strip() if title else \"\")\n",
    "    \n",
    "    link = artical.find(\"a\" , class_ = \"title\")\n",
    "    artical_link.append(link[\"href\"] if link else \"\")"
   ]
  },
  {
   "cell_type": "code",
   "execution_count": 10,
   "metadata": {},
   "outputs": [
    {
     "data": {
      "text/plain": [
       "(['About the Announcements category',\n",
       "  'Potential Misuse of Funds - Furucombo',\n",
       "  'The Arbitrum Foundation Bi-annual Progress Update (H1’2024)',\n",
       "  'List of projects banned from the DAO',\n",
       "  'Improving Predictability in Arbitrum DAO’s Operations - Ratification',\n",
       "  'The Constitution of the Arbitrum DAO',\n",
       "  'Arbitrum ArbOS upgrades',\n",
       "  'Arbitrum Foundation Transparency Report 2023',\n",
       "  'GovHack - ETHDenver powered by Hack Humanity',\n",
       "  'Fix Fee Oversight ArbOS v20 \"Atlas\"',\n",
       "  'Community Guidelines'],\n",
       " ['https://forum.arbitrum.foundation/t/about-the-announcements-category/21134',\n",
       "  'https://forum.arbitrum.foundation/t/potential-misuse-of-funds-furucombo/25496',\n",
       "  'https://forum.arbitrum.foundation/t/the-arbitrum-foundation-bi-annual-progress-update-h1-2024/26538',\n",
       "  'https://forum.arbitrum.foundation/t/list-of-projects-banned-from-the-dao/26097',\n",
       "  'https://forum.arbitrum.foundation/t/improving-predictability-in-arbitrum-dao-s-operations-ratification/25854',\n",
       "  'https://forum.arbitrum.foundation/t/the-constitution-of-the-arbitrum-dao/14301',\n",
       "  'https://forum.arbitrum.foundation/t/arbitrum-arbos-upgrades/19695',\n",
       "  'https://forum.arbitrum.foundation/t/arbitrum-foundation-transparency-report-2023/21135',\n",
       "  'https://forum.arbitrum.foundation/t/govhack-ethdenver-powered-by-hack-humanity/21119',\n",
       "  'https://forum.arbitrum.foundation/t/fix-fee-oversight-arbos-v20-atlas/22152',\n",
       "  'https://forum.arbitrum.foundation/t/community-guidelines/12807'])"
      ]
     },
     "execution_count": 10,
     "metadata": {},
     "output_type": "execute_result"
    }
   ],
   "source": [
    "artical_title , artical_link"
   ]
  },
  {
   "cell_type": "code",
   "execution_count": 15,
   "metadata": {},
   "outputs": [
    {
     "name": "stdout",
     "output_type": "stream",
     "text": [
      "What is the issue?\n",
      "The Foundation has reviewed the STIP Analysis (ARDC Research Deliverables) prepared by @Blockworks and observed that certain protocols have misused (and/or retained leftover) STIP and Backfund STIP grants.\n",
      "Which projects have misused funds?\n",
      "The Foundation has followed up on projects that fall into the above category and has sought for funds to be returned.\n",
      "Several projects that we privately contacted have cooperated and returned the funds without any issues. We want to take th\n"
     ]
    }
   ],
   "source": [
    "html = requests.get(artical_link[1])\n",
    "soup = BeautifulSoup(html.text, \"lxml\")\n",
    "# print(soup.prettify())\n",
    "\n",
    " #Only taking first 500 lines from as artical as, they can very big in size\n",
    "print(soup.find(\"div\" , class_ = \"post\").get_text().strip()[:500])"
   ]
  },
  {
   "cell_type": "code",
   "execution_count": 22,
   "metadata": {},
   "outputs": [
    {
     "name": "stdout",
     "output_type": "stream",
     "text": [
      "Page Scrapped :  1\n",
      "Page Scrapped :  2\n",
      "Page Scrapped :  3\n",
      "Page Scrapped :  4\n",
      "Page Scrapped :  5\n",
      "Page Scrapped :  6\n",
      "Page Scrapped :  7\n",
      "Page Scrapped :  8\n",
      "Page Scrapped :  9\n",
      "Page Scrapped :  10\n"
     ]
    }
   ],
   "source": [
    "artical_title = []\n",
    "artical_link = []\n",
    "artical = []\n",
    "page_scrapped = 0\n",
    "\n",
    "for i in range(len(Category_links)):\n",
    "    html = requests.get(Category_links[i])\n",
    "    soup = BeautifulSoup(html.text , \"lxml\")\n",
    "    articalList = soup.find_all(\"tr\" , class_ = \"topic-list-item\")\n",
    "    \n",
    "    for artical in articalList:\n",
    "        title = artical.find(\"a\" , class_ = \"title\")\n",
    "        artical_title.append(title.text.strip() if title else \"\")\n",
    "        \n",
    "        link = artical.find(\"a\" , class_ = \"title\")\n",
    "        artical_link.append(link[\"href\"] if link else \"\")\n",
    "        \n",
    "        html_art = requests.get(link[\"href\"])\n",
    "        soup_art = BeautifulSoup(html_art.text , \"lxml\")\n",
    "        arti = soup.find(\"div\" , class_ = \"post\")\n",
    "        #Only taking first 500 lines from as artical as, they can very big in size\n",
    "        artical.append(arti.get_text().strip()[:500]if arti else \"\")\n",
    "        \n",
    "    page_scrapped += 1\n",
    "    print(\"Page Scrapped : \" , page_scrapped)\n",
    "\n",
    "    \n",
    "    "
   ]
  },
  {
   "cell_type": "code",
   "execution_count": 58,
   "metadata": {},
   "outputs": [
    {
     "data": {
      "text/html": [
       "<div>\n",
       "<style scoped>\n",
       "    .dataframe tbody tr th:only-of-type {\n",
       "        vertical-align: middle;\n",
       "    }\n",
       "\n",
       "    .dataframe tbody tr th {\n",
       "        vertical-align: top;\n",
       "    }\n",
       "\n",
       "    .dataframe thead th {\n",
       "        text-align: right;\n",
       "    }\n",
       "</style>\n",
       "<table border=\"1\" class=\"dataframe\">\n",
       "  <thead>\n",
       "    <tr style=\"text-align: right;\">\n",
       "      <th></th>\n",
       "      <th>Artical Title</th>\n",
       "      <th>Artical Link</th>\n",
       "      <th>Artical Content</th>\n",
       "    </tr>\n",
       "  </thead>\n",
       "  <tbody>\n",
       "    <tr>\n",
       "      <th>0</th>\n",
       "      <td>About the Announcements category</td>\n",
       "      <td>https://forum.arbitrum.foundation/t/about-the-...</td>\n",
       "      <td>Announcements for important items, events and ...</td>\n",
       "    </tr>\n",
       "    <tr>\n",
       "      <th>1</th>\n",
       "      <td>Potential Misuse of Funds - Furucombo</td>\n",
       "      <td>https://forum.arbitrum.foundation/t/potential-...</td>\n",
       "      <td>What is the issue?\\nThe Foundation has reviewe...</td>\n",
       "    </tr>\n",
       "    <tr>\n",
       "      <th>2</th>\n",
       "      <td>The Arbitrum Foundation Bi-annual Progress Upd...</td>\n",
       "      <td>https://forum.arbitrum.foundation/t/the-arbitr...</td>\n",
       "      <td>Introduction\\nAs part of The Arbitrum Foundati...</td>\n",
       "    </tr>\n",
       "    <tr>\n",
       "      <th>3</th>\n",
       "      <td>List of projects banned from the DAO</td>\n",
       "      <td>https://forum.arbitrum.foundation/t/list-of-pr...</td>\n",
       "      <td>The following projects are banned from the Arb...</td>\n",
       "    </tr>\n",
       "    <tr>\n",
       "      <th>4</th>\n",
       "      <td>Improving Predictability in Arbitrum DAO’s Ope...</td>\n",
       "      <td>https://forum.arbitrum.foundation/t/improving-...</td>\n",
       "      <td>Overview:\\nWith the DAO expressing support in ...</td>\n",
       "    </tr>\n",
       "    <tr>\n",
       "      <th>...</th>\n",
       "      <td>...</td>\n",
       "      <td>...</td>\n",
       "      <td>...</td>\n",
       "    </tr>\n",
       "    <tr>\n",
       "      <th>252</th>\n",
       "      <td>Team 4: Jumpstart fund for DAO improvement</td>\n",
       "      <td>https://forum.arbitrum.foundation/t/team-4-jum...</td>\n",
       "      <td>Jumpstart fund for DAO improvement\\nNon-Consti...</td>\n",
       "    </tr>\n",
       "    <tr>\n",
       "      <th>253</th>\n",
       "      <td>Team 10 + DeCredit Score</td>\n",
       "      <td>https://forum.arbitrum.foundation/t/team-10-de...</td>\n",
       "      <td>Track Number: 1\\nTrack Name: RWA\\nChallenge St...</td>\n",
       "    </tr>\n",
       "    <tr>\n",
       "      <th>254</th>\n",
       "      <td>Team #24 - Memebyosis: Arbitrum Memecoin Accel...</td>\n",
       "      <td>https://forum.arbitrum.foundation/t/team-24-me...</td>\n",
       "      <td>Track: Ventures\\nChallenge Statement: The ARB ...</td>\n",
       "    </tr>\n",
       "    <tr>\n",
       "      <th>255</th>\n",
       "      <td>Team 27 ArbitrumAgent: Empowering Decentralize...</td>\n",
       "      <td>https://forum.arbitrum.foundation/t/team-27-ar...</td>\n",
       "      <td>Title: ArbitrumAgent: Empowering Decentralized...</td>\n",
       "    </tr>\n",
       "    <tr>\n",
       "      <th>256</th>\n",
       "      <td>Team 3 + Reducing web3 Governance Gaps in Glob...</td>\n",
       "      <td>https://forum.arbitrum.foundation/t/team-3-red...</td>\n",
       "      <td>Track Name: Community / IRL Activation, Market...</td>\n",
       "    </tr>\n",
       "  </tbody>\n",
       "</table>\n",
       "<p>257 rows × 3 columns</p>\n",
       "</div>"
      ],
      "text/plain": [
       "                                         Artical Title  \\\n",
       "0                     About the Announcements category   \n",
       "1                Potential Misuse of Funds - Furucombo   \n",
       "2    The Arbitrum Foundation Bi-annual Progress Upd...   \n",
       "3                 List of projects banned from the DAO   \n",
       "4    Improving Predictability in Arbitrum DAO’s Ope...   \n",
       "..                                                 ...   \n",
       "252         Team 4: Jumpstart fund for DAO improvement   \n",
       "253                           Team 10 + DeCredit Score   \n",
       "254  Team #24 - Memebyosis: Arbitrum Memecoin Accel...   \n",
       "255  Team 27 ArbitrumAgent: Empowering Decentralize...   \n",
       "256  Team 3 + Reducing web3 Governance Gaps in Glob...   \n",
       "\n",
       "                                          Artical Link  \\\n",
       "0    https://forum.arbitrum.foundation/t/about-the-...   \n",
       "1    https://forum.arbitrum.foundation/t/potential-...   \n",
       "2    https://forum.arbitrum.foundation/t/the-arbitr...   \n",
       "3    https://forum.arbitrum.foundation/t/list-of-pr...   \n",
       "4    https://forum.arbitrum.foundation/t/improving-...   \n",
       "..                                                 ...   \n",
       "252  https://forum.arbitrum.foundation/t/team-4-jum...   \n",
       "253  https://forum.arbitrum.foundation/t/team-10-de...   \n",
       "254  https://forum.arbitrum.foundation/t/team-24-me...   \n",
       "255  https://forum.arbitrum.foundation/t/team-27-ar...   \n",
       "256  https://forum.arbitrum.foundation/t/team-3-red...   \n",
       "\n",
       "                                       Artical Content  \n",
       "0    Announcements for important items, events and ...  \n",
       "1    What is the issue?\\nThe Foundation has reviewe...  \n",
       "2    Introduction\\nAs part of The Arbitrum Foundati...  \n",
       "3    The following projects are banned from the Arb...  \n",
       "4    Overview:\\nWith the DAO expressing support in ...  \n",
       "..                                                 ...  \n",
       "252  Jumpstart fund for DAO improvement\\nNon-Consti...  \n",
       "253  Track Number: 1\\nTrack Name: RWA\\nChallenge St...  \n",
       "254  Track: Ventures\\nChallenge Statement: The ARB ...  \n",
       "255  Title: ArbitrumAgent: Empowering Decentralized...  \n",
       "256  Track Name: Community / IRL Activation, Market...  \n",
       "\n",
       "[257 rows x 3 columns]"
      ]
     },
     "execution_count": 58,
     "metadata": {},
     "output_type": "execute_result"
    }
   ],
   "source": [
    "data = pd.DataFrame({\"Artical Title\" :artical_title , \"Artical Link\" : artical_link , \"Artical Content\" : artical})\n",
    "data"
   ]
  },
  {
   "cell_type": "code",
   "execution_count": 61,
   "metadata": {},
   "outputs": [
    {
     "data": {
      "text/plain": [
       "(257, 257, 257)"
      ]
     },
     "execution_count": 61,
     "metadata": {},
     "output_type": "execute_result"
    }
   ],
   "source": [
    "len(artical_link),len(artical_title), len(artical)"
   ]
  },
  {
   "cell_type": "code",
   "execution_count": 59,
   "metadata": {},
   "outputs": [
    {
     "data": {
      "text/plain": [
       "0"
      ]
     },
     "execution_count": 59,
     "metadata": {},
     "output_type": "execute_result"
    }
   ],
   "source": [
    "sum(data['Artical Content'] == \"NA\")"
   ]
  },
  {
   "cell_type": "code",
   "execution_count": 57,
   "metadata": {},
   "outputs": [],
   "source": [
    "artical = []\n",
    "for link in data['Artical Link']:\n",
    "    html_art = requests.get(link)\n",
    "    soup_art = BeautifulSoup(html_art.text , \"lxml\")\n",
    "    arti = soup_art.find(\"div\" , class_ = \"post\")\n",
    "    #Only taking first 500 lines from as artical as, they can very big in size\n",
    "    artical.append(arti.get_text().strip()[:500]if arti else \"NA\")"
   ]
  },
  {
   "cell_type": "code",
   "execution_count": 53,
   "metadata": {},
   "outputs": [],
   "source": [
    "\n",
    "\n",
    "html_art = requests.get(data['Artical Link'][0])\n",
    "soup_art = BeautifulSoup(html_art.text , \"lxml\")\n",
    "arti = soup_art.find(\"div\" , class_ = \"post\")"
   ]
  },
  {
   "cell_type": "code",
   "execution_count": 56,
   "metadata": {},
   "outputs": [
    {
     "data": {
      "text/plain": [
       "'Announcements for important items, events and initiatives in the ArbitrumDAO.'"
      ]
     },
     "execution_count": 56,
     "metadata": {},
     "output_type": "execute_result"
    }
   ],
   "source": [
    "arti.get_text().strip()[:500]"
   ]
  },
  {
   "cell_type": "code",
   "execution_count": 60,
   "metadata": {},
   "outputs": [],
   "source": [
    "data.to_csv(\"arbitrum_data\")"
   ]
  }
 ],
 "metadata": {
  "kernelspec": {
   "display_name": "Python 3",
   "language": "python",
   "name": "python3"
  },
  "language_info": {
   "codemirror_mode": {
    "name": "ipython",
    "version": 3
   },
   "file_extension": ".py",
   "mimetype": "text/x-python",
   "name": "python",
   "nbconvert_exporter": "python",
   "pygments_lexer": "ipython3",
   "version": "3.8.10"
  }
 },
 "nbformat": 4,
 "nbformat_minor": 2
}
